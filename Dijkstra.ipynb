{
 "cells": [
  {
   "cell_type": "markdown",
   "metadata": {},
   "source": [
    "# Dijkstra menor custo"
   ]
  },
  {
   "cell_type": "code",
   "execution_count": 1,
   "metadata": {
    "collapsed": true
   },
   "outputs": [],
   "source": [
    "import queue  \n",
    "from collections import namedtuple\n",
    "\n",
    "Edge = namedtuple('Edge', ['vertex', 'weight'])\n",
    "total=0\n",
    "\n",
    "class GraphUndirectedWeighted(object):  \n",
    "    def __init__(self, vertex_count):\n",
    "        self.vertex_count = vertex_count\n",
    "        self.adjacency_list = [[] for _ in range(vertex_count)]\n",
    "\n",
    "    def add_edge(self, source, dest, weight):\n",
    "        assert source < self.vertex_count\n",
    "        assert dest < self.vertex_count\n",
    "        self.adjacency_list[source].append(Edge(dest, weight))\n",
    "        self.adjacency_list[dest].append(Edge(source, weight))\n",
    "\n",
    "    def get_edge(self, vertex):\n",
    "        for e in self.adjacency_list[vertex]:\n",
    "            yield e\n",
    "\n",
    "    def get_vertex(self):\n",
    "        for v in range(self.vertex_count):\n",
    "            yield v\n"
   ]
  },
  {
   "cell_type": "code",
   "execution_count": 5,
   "metadata": {
    "collapsed": true
   },
   "outputs": [],
   "source": [
    "def dijkstra(graph, source, dest):  \n",
    "    q = queue.PriorityQueue()\n",
    "    parents = []\n",
    "    distances = []\n",
    "    start_weight = float(\"inf\")\n",
    "\n",
    "    for i in graph.get_vertex():\n",
    "        weight = start_weight\n",
    "        if source == i:\n",
    "            weight = 0\n",
    "        distances.append(weight)\n",
    "        parents.append(None)\n",
    "\n",
    "    q.put(([0, source]))\n",
    "\n",
    "    while not q.empty():\n",
    "        v_tuple = q.get()\n",
    "        v = v_tuple[1]\n",
    "\n",
    "        for e in graph.get_edge(v):\n",
    "            candidate_distance = distances[v] + e.weight\n",
    "            if distances[e.vertex] > candidate_distance:\n",
    "                distances[e.vertex] = candidate_distance\n",
    "                parents[e.vertex] = v\n",
    "                # primitive but effective negative cycle detection\n",
    "                if candidate_distance < -1000:\n",
    "                    raise Exception(\"Negative cycle detected\")\n",
    "                q.put(([distances[e.vertex], e.vertex]))\n",
    "\n",
    "    shortest_path = []\n",
    "    end = dest\n",
    "    while end is not None:\n",
    "        shortest_path.append(end)\n",
    "        end = parents[end]\n",
    "\n",
    "    shortest_path.reverse()\n",
    "\n",
    "    return shortest_path, distances[dest]"
   ]
  },
  {
   "cell_type": "code",
   "execution_count": 14,
   "metadata": {},
   "outputs": [
    {
     "name": "stdout",
     "output_type": "stream",
     "text": [
      "Caminho:  [5, 3, 2, 1, 0]\n",
      "Total:    ( 4 km )\n"
     ]
    }
   ],
   "source": [
    "def main():  \n",
    "    g = GraphUndirectedWeighted(9)\n",
    "    g.add_edge(0, 1, 1)\n",
    "    g.add_edge(1, 7, 6)\n",
    "    g.add_edge(1, 2, 1)\n",
    "    g.add_edge(2, 3, 1)\n",
    "    g.add_edge(3, 7, 1)\n",
    "    g.add_edge(3, 4, 2)\n",
    "    g.add_edge(3, 5, 1)\n",
    "    g.add_edge(4, 5, 1)\n",
    "    g.add_edge(5, 6, 1)\n",
    "    g.add_edge(6, 7, 2)\n",
    "    g.add_edge(6, 8, 2)\n",
    "    g.add_edge(7, 8, 2)\n",
    "    # for testing negative cycles\n",
    "    # g.add_edge(1, 9, -5)\n",
    "    # g.add_edge(9, 7, -4)\n",
    "\n",
    "\n",
    "    shortest_path, distance = dijkstra(g, 5, 0)\n",
    "\n",
    "    \n",
    "    print(\"Caminho: \",shortest_path)\n",
    "    print(\"Total:    (\",distance,\"km )\")\n",
    "\n",
    "main()"
   ]
  }
 ],
 "metadata": {
  "kernelspec": {
   "display_name": "Python 3",
   "language": "python",
   "name": "python3"
  },
  "language_info": {
   "codemirror_mode": {
    "name": "ipython",
    "version": 3
   },
   "file_extension": ".py",
   "mimetype": "text/x-python",
   "name": "python",
   "nbconvert_exporter": "python",
   "pygments_lexer": "ipython3",
   "version": "3.6.3"
  }
 },
 "nbformat": 4,
 "nbformat_minor": 2
}
